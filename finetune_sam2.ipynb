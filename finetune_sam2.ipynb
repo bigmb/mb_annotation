{
 "cells": [
  {
   "cell_type": "code",
   "execution_count": 1,
   "metadata": {},
   "outputs": [],
   "source": [
    "## fine tuning sam2"
   ]
  },
  {
   "cell_type": "code",
   "execution_count": 1,
   "metadata": {},
   "outputs": [
    {
     "name": "stderr",
     "output_type": "stream",
     "text": [
      "/home/winnow/.local/lib/python3.10/site-packages/sam2/modeling/sam/transformer.py:23: UserWarning: Flash Attention is disabled as it requires a GPU with Ampere (8.0) CUDA capability.\n",
      "  OLD_GPU, USE_FLASH_ATTN, MATH_KERNEL_ON = get_sdpa_settings()\n"
     ]
    }
   ],
   "source": [
    "from mb_annotation.segsam2 import load_data,sam_predictor,train_model"
   ]
  },
  {
   "cell_type": "code",
   "execution_count": 2,
   "metadata": {},
   "outputs": [
    {
     "data": {
      "text/plain": [
       "{'image': '/home/winnow/Desktop/data_to_test/images/0000.png',\n",
       " 'annotation': '/home/winnow/Desktop/data_to_test/mask/0000_mask.png'}"
      ]
     },
     "execution_count": 2,
     "metadata": {},
     "output_type": "execute_result"
    }
   ],
   "source": [
    "data = load_data(\"/home/winnow/Desktop/data_to_test/final_food_data.csv\")\n",
    "data[0]"
   ]
  },
  {
   "cell_type": "code",
   "execution_count": 3,
   "metadata": {},
   "outputs": [],
   "source": [
    "predictor = sam_predictor('/home/winnow/segment-anything-2/checkpoints/sam2_hiera_small.pt','./sam2_hiera_s.yaml',device='cpu')"
   ]
  },
  {
   "cell_type": "code",
   "execution_count": 4,
   "metadata": {},
   "outputs": [
    {
     "name": "stdout",
     "output_type": "stream",
     "text": [
      "step:0 loss:2.6383 seg_loss:2.5943 score_loss:0.8800 mean_iou:0.0008\n",
      "step:1 loss:0.2170 seg_loss:0.2127 score_loss:0.0862 mean_iou:0.0023\n"
     ]
    }
   ],
   "source": [
    "new_predictor = train_model(data, predictor, epochs=5, lr=1e-6,device='cpu',save_step=5)"
   ]
  },
  {
   "cell_type": "code",
   "execution_count": null,
   "metadata": {},
   "outputs": [],
   "source": []
  },
  {
   "cell_type": "code",
   "execution_count": null,
   "metadata": {},
   "outputs": [],
   "source": [
    "import torch\n",
    "\n",
    "sam2_checkpoint = \"/home/winnow/segment-anything-2/checkpoints/sam2_hiera_small.pt\"\n",
    "model_cfg = \"./sam2_hiera_s.yaml\" # \"sam2_hiera_l.yaml\"\n",
    "\n",
    "predictor = sam_predictor( sam2_checkpoint, model_cfg,device=\"cuda\")\n",
    "predictor.model.load_state_dict(torch.load(\"./sam_model_checkpoints/sam_model.pt\"))"
   ]
  },
  {
   "cell_type": "code",
   "execution_count": null,
   "metadata": {},
   "outputs": [],
   "source": [
    "import cv2\n",
    "import numpy as np\n",
    "def read_image(image_path, mask_path): # read and resize image and mask\n",
    "        img = cv2.imread(image_path)[...,::-1]  # read image\n",
    "        mask = cv2.imread(mask_path,0)\n",
    "        r = np.min([1024 / img.shape[1], 1024 / img.shape[0]])\n",
    "        img = cv2.resize(img, (int(img.shape[1] * r), int(img.shape[0] * r)))\n",
    "        mask = cv2.resize(mask, (int(mask.shape[1] * r), int(mask.shape[0] * r)),interpolation=cv2.INTER_NEAREST)\n",
    "        return img, mask\n",
    "\n",
    "\n",
    "def get_points(mask,num_points): # Sample points inside the input mask\n",
    "        points=[]\n",
    "        for i in range(num_points):\n",
    "            coords = np.argwhere(mask > 0)\n",
    "            yx = np.array(coords[np.random.randint(len(coords))])\n",
    "            points.append([[yx[1], yx[0]]])\n",
    "        return np.array(points)"
   ]
  },
  {
   "cell_type": "code",
   "execution_count": null,
   "metadata": {},
   "outputs": [],
   "source": [
    "# read image and sample points\n",
    "image,mask = read_image('/home/winnow/Desktop/data_to_test/images/0003.png','/home/winnow/Desktop/data_to_test/mask/0003_mask.png')\n",
    "input_points = get_points(mask,50)"
   ]
  },
  {
   "cell_type": "code",
   "execution_count": null,
   "metadata": {},
   "outputs": [],
   "source": [
    "import matplotlib.pyplot as plt\n",
    "\n",
    "with torch.no_grad():\n",
    "        predictor.set_image(image)\n",
    "        masks, scores, logits = predictor.predict(\n",
    "            point_coords=input_points,\n",
    "            point_labels=np.ones([input_points.shape[0],1])\n",
    "        )\n",
    "\n",
    "# Short predicted masks from high to low score\n",
    "\n",
    "np_masks = np.array(masks[:,0]) # remove .cpu().numpy() as masks is already a numpy array\n",
    "np_scores = scores[:,0]\n",
    "shorted_masks = np_masks[np.argsort(np_scores)][::-1]\n",
    "\n",
    "\n",
    "# Stitch predicted mask into one segmentation mask\n",
    "\n",
    "seg_map = np.zeros_like(shorted_masks[0],dtype=np.uint8)\n",
    "occupancy_mask = np.zeros_like(shorted_masks[0],dtype=bool)\n",
    "for i in range(shorted_masks.shape[0]):\n",
    "    mask = shorted_masks[i]\n",
    "    if (mask*occupancy_mask).sum()/mask.sum()>0.15: continue\n",
    "    mask[occupancy_mask]=0\n",
    "    # Convert mask to boolean for indexing\n",
    "    seg_map[mask > 0.5] = i + 1  # Assuming 0.5 as the threshold for positive prediction\n",
    "    occupancy_mask[mask > 0.5] = 1\n",
    "\n",
    "\n",
    "# create colored annotation map\n",
    "height, width = seg_map.shape\n",
    "\n",
    "# Create an empty RGB image for the colored annotation\n",
    "rgb_image = np.zeros((height, width, 3), dtype=np.uint8)\n",
    "# Map each class number to a random  color\n",
    "\n",
    "\n",
    "for id_class in range(1,seg_map.max()+1):\n",
    "    rgb_image[seg_map == id_class] = [np.random.randint(255), np.random.randint(255), np.random.randint(255)]\n",
    "\n",
    "# save and display\n",
    "\n",
    "cv2.imwrite(\"annotation.png\",rgb_image)\n",
    "cv2.imwrite(\"mix.png\",(rgb_image/2+image/2).astype(np.uint8))\n",
    "\n",
    "plt.imshow(rgb_image)\n",
    "# plt.imshow(image)\n",
    "plt.show()\n",
    "\n",
    "cv2.waitKey()"
   ]
  },
  {
   "cell_type": "code",
   "execution_count": null,
   "metadata": {},
   "outputs": [],
   "source": []
  },
  {
   "cell_type": "code",
   "execution_count": null,
   "metadata": {},
   "outputs": [],
   "source": []
  },
  {
   "cell_type": "code",
   "execution_count": null,
   "metadata": {},
   "outputs": [],
   "source": []
  }
 ],
 "metadata": {
  "kernelspec": {
   "display_name": "Python 3",
   "language": "python",
   "name": "python3"
  },
  "language_info": {
   "codemirror_mode": {
    "name": "ipython",
    "version": 3
   },
   "file_extension": ".py",
   "mimetype": "text/x-python",
   "name": "python",
   "nbconvert_exporter": "python",
   "pygments_lexer": "ipython3",
   "version": "3.10.12"
  }
 },
 "nbformat": 4,
 "nbformat_minor": 2
}
